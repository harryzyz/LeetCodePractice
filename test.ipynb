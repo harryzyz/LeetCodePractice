{
 "cells": [
  {
   "cell_type": "code",
   "execution_count": 1,
   "metadata": {},
   "outputs": [],
   "source": [
    "import numpy as np\n",
    "import pandas as pd"
   ]
  },
  {
   "cell_type": "markdown",
   "metadata": {},
   "source": [
    "### Q1 Two sum"
   ]
  },
  {
   "cell_type": "code",
   "execution_count": 12,
   "metadata": {},
   "outputs": [],
   "source": [
    "nums = [3,2,4]\n",
    "target = 6"
   ]
  },
  {
   "cell_type": "code",
   "execution_count": 14,
   "metadata": {},
   "outputs": [
    {
     "name": "stdout",
     "output_type": "stream",
     "text": [
      "0 3\n",
      "1 2\n",
      "1 1\n",
      "2 4\n"
     ]
    }
   ],
   "source": [
    "for idx1, num1 in enumerate(nums):\n",
    "    print(idx1, num1)\n",
    "    for idx2, num2 in enumerate(nums[idx1+1:]):\n",
    "        # print(idx2, num2)\n",
    "        if num1 + num2 == target:\n",
    "            print(idx1, idx2+1)"
   ]
  },
  {
   "cell_type": "code",
   "execution_count": 11,
   "metadata": {},
   "outputs": [
    {
     "name": "stdout",
     "output_type": "stream",
     "text": [
      "0 2\n",
      "1 4\n"
     ]
    }
   ],
   "source": [
    "idx1 = 0\n",
    "nums[idx1+1:]\n",
    "for idx2, num2 in enumerate(nums[idx1+1:]):\n",
    "    print(idx2, num2)"
   ]
  },
  {
   "cell_type": "markdown",
   "metadata": {},
   "source": [
    "### Q26 remove duplicates from sorted array"
   ]
  },
  {
   "cell_type": "code",
   "execution_count": 58,
   "metadata": {},
   "outputs": [],
   "source": [
    "nums = [1,2,2]"
   ]
  },
  {
   "cell_type": "code",
   "execution_count": 59,
   "metadata": {},
   "outputs": [],
   "source": [
    "i = 1\n",
    "while i < len(nums):\n",
    "    if nums[i] == nums[i-1]:\n",
    "        nums.pop(i)\n",
    "    else:\n",
    "        i += 1"
   ]
  },
  {
   "cell_type": "code",
   "execution_count": 60,
   "metadata": {},
   "outputs": [
    {
     "data": {
      "text/plain": [
       "[1, 2]"
      ]
     },
     "execution_count": 60,
     "metadata": {},
     "output_type": "execute_result"
    }
   ],
   "source": [
    "nums"
   ]
  },
  {
   "cell_type": "markdown",
   "metadata": {},
   "source": [
    "### Q35 Search and insert"
   ]
  },
  {
   "cell_type": "markdown",
   "metadata": {},
   "source": [
    "[0,1,|2,3]\n",
    "[0,|1|,2,|3]\n",
    "00,01,10,11\n",
    "------------------\n",
    "[0,1,2,|3,4,5]\n",
    "[0,|1,2,|3,4,5]\n",
    "[0,1,2,|3,4,5]"
   ]
  },
  {
   "cell_type": "code",
   "execution_count": 4,
   "metadata": {},
   "outputs": [
    {
     "name": "stdout",
     "output_type": "stream",
     "text": [
      "[1, 2, 3, 4, 6]\n",
      "1\n",
      "[3, 4, 6]\n",
      "1\n",
      "[4, 6]\n",
      "1\n",
      "[6]\n",
      "0\n"
     ]
    }
   ],
   "source": [
    "nums = [1,2,3,4,6]\n",
    "target = 5\n",
    "idx = ''\n",
    "try:\n",
    "    print(nums.index(target))\n",
    "except:\n",
    "    while len(nums) >= 1:\n",
    "        print(nums)\n",
    "        if target < nums[int(len(nums)/2)-1]:\n",
    "            print('0')\n",
    "            nums = nums[:int(len(nums)/2)]\n",
    "            idx += '0'\n",
    "        else:\n",
    "            print('1')\n",
    "            nums = nums[int(len(nums)/2):]\n",
    "            idx += '1'"
   ]
  },
  {
   "cell_type": "code",
   "execution_count": 161,
   "metadata": {},
   "outputs": [
    {
     "data": {
      "text/plain": [
       "3"
      ]
     },
     "execution_count": 161,
     "metadata": {},
     "output_type": "execute_result"
    }
   ],
   "source": [
    "nums = [1,2,3,4,6]\n",
    "idx = nums.index(4)\n",
    "\n",
    "idx"
   ]
  },
  {
   "cell_type": "markdown",
   "metadata": {},
   "source": [
    "### Q66 plus one"
   ]
  },
  {
   "cell_type": "code",
   "execution_count": 184,
   "metadata": {},
   "outputs": [
    {
     "name": "stdout",
     "output_type": "stream",
     "text": [
      "-1\n",
      "-2\n",
      "-3\n"
     ]
    },
    {
     "data": {
      "text/plain": [
       "[1, 0, 0, 0]"
      ]
     },
     "execution_count": 184,
     "metadata": {},
     "output_type": "execute_result"
    }
   ],
   "source": [
    "digits = [9,9,9]\n",
    "\n",
    "\n",
    "i = -1\n",
    "try:\n",
    "    while digits[i] == 10:\n",
    "        print(i)\n",
    "        digits[i] = 0\n",
    "        digits[i-1] += 1\n",
    "        i -= 1\n",
    "except:\n",
    "    digits.insert(0,1)\n",
    "    while digits[i] == 10:\n",
    "        print(i)\n",
    "        digits[i] = 0\n",
    "        digits[i-1] += 1\n",
    "        i -= 1\n",
    "digits"
   ]
  },
  {
   "cell_type": "code",
   "execution_count": 178,
   "metadata": {},
   "outputs": [],
   "source": [
    "digits = [9,9,9]"
   ]
  },
  {
   "cell_type": "code",
   "execution_count": 180,
   "metadata": {},
   "outputs": [],
   "source": [
    "digits.insert(0,0)"
   ]
  },
  {
   "cell_type": "code",
   "execution_count": 181,
   "metadata": {},
   "outputs": [
    {
     "data": {
      "text/plain": [
       "[0, 9, 9, 9]"
      ]
     },
     "execution_count": 181,
     "metadata": {},
     "output_type": "execute_result"
    }
   ],
   "source": [
    "digits"
   ]
  },
  {
   "cell_type": "markdown",
   "metadata": {},
   "source": [
    "### Q88 Merge Sorted Array"
   ]
  },
  {
   "cell_type": "code",
   "execution_count": 2,
   "metadata": {},
   "outputs": [
    {
     "data": {
      "text/plain": [
       "[1, 2, 2, 3, 5, 6]"
      ]
     },
     "execution_count": 2,
     "metadata": {},
     "output_type": "execute_result"
    }
   ],
   "source": [
    "nums1 = [1,2,3,0,0,0]\n",
    "m = 3\n",
    "nums2 = [2,5,6]\n",
    "n = 3\n",
    "nums1 = nums1[:m] + nums2\n",
    "nums1.sort()\n",
    "nums1"
   ]
  },
  {
   "cell_type": "code",
   "execution_count": 3,
   "metadata": {},
   "outputs": [
    {
     "data": {
      "text/plain": [
       "[1, 2, 2, 3, 0, 0]"
      ]
     },
     "execution_count": 3,
     "metadata": {},
     "output_type": "execute_result"
    }
   ],
   "source": [
    "nums1 = [1,2,3,0,0,0]\n",
    "idx2 = 0\n",
    "idx1 = 2\n",
    "nums1[idx1+1:] = nums1[idx1:-1]\n",
    "nums1[idx1] = nums2[idx2]\n",
    "nums1"
   ]
  },
  {
   "cell_type": "code",
   "execution_count": 5,
   "metadata": {},
   "outputs": [
    {
     "name": "stdout",
     "output_type": "stream",
     "text": [
      "pt1:  0\n",
      "pt2:  0\n",
      "nums1 element:  1\n",
      "nums2 element:  2\n",
      "[1, 2, 3, 0, 0, 0]\n",
      "pt1:  1\n",
      "pt2:  0\n",
      "nums1 element:  2\n",
      "nums2 element:  2\n",
      "[1, 2, 3, 0, 0, 0]\n",
      "pt1:  2\n",
      "pt2:  0\n",
      "nums1 element:  3\n",
      "nums2 element:  2\n",
      "[1, 2, 2, 3, 0, 0]\n",
      "pt1:  3\n",
      "pt2:  1\n",
      "nums1 element:  3\n",
      "nums2 element:  5\n",
      "[1, 2, 2, 3, 0, 0]\n",
      "pt1:  4\n",
      "pt2:  1\n",
      "nums1 element:  0\n",
      "nums2 element:  5\n",
      "[1, 2, 2, 3, 0, 0]\n",
      "pt1:  5\n",
      "pt2:  1\n",
      "nums1 element:  0\n",
      "nums2 element:  5\n",
      "[1, 2, 2, 3, 0, 0]\n",
      "pt1:  6\n",
      "pt2:  1\n"
     ]
    },
    {
     "ename": "IndexError",
     "evalue": "list index out of range",
     "output_type": "error",
     "traceback": [
      "\u001b[1;31m---------------------------------------------------------------------------\u001b[0m",
      "\u001b[1;31mIndexError\u001b[0m                                Traceback (most recent call last)",
      "Cell \u001b[1;32mIn[5], line 11\u001b[0m\n\u001b[0;32m      9\u001b[0m \u001b[38;5;28mprint\u001b[39m(\u001b[38;5;124m'\u001b[39m\u001b[38;5;124mpt1: \u001b[39m\u001b[38;5;124m'\u001b[39m, pt1)\n\u001b[0;32m     10\u001b[0m \u001b[38;5;28mprint\u001b[39m(\u001b[38;5;124m'\u001b[39m\u001b[38;5;124mpt2: \u001b[39m\u001b[38;5;124m'\u001b[39m, pt2)\n\u001b[1;32m---> 11\u001b[0m \u001b[38;5;28mprint\u001b[39m(\u001b[38;5;124m'\u001b[39m\u001b[38;5;124mnums1 element: \u001b[39m\u001b[38;5;124m'\u001b[39m, \u001b[43mnums1\u001b[49m\u001b[43m[\u001b[49m\u001b[43mpt1\u001b[49m\u001b[43m]\u001b[49m)\n\u001b[0;32m     12\u001b[0m \u001b[38;5;28mprint\u001b[39m(\u001b[38;5;124m'\u001b[39m\u001b[38;5;124mnums2 element: \u001b[39m\u001b[38;5;124m'\u001b[39m, nums2[pt2])\n\u001b[0;32m     13\u001b[0m \u001b[38;5;28;01mif\u001b[39;00m nums1[pt1] \u001b[38;5;241m<\u001b[39m\u001b[38;5;241m=\u001b[39m nums2[pt2]:\n",
      "\u001b[1;31mIndexError\u001b[0m: list index out of range"
     ]
    }
   ],
   "source": [
    "nums1 = [1,2,3,0,0,0]\n",
    "m = 3\n",
    "nums2 = [2,5,6]\n",
    "n = 3\n",
    "pt1 = 0\n",
    "pt2 = 0\n",
    "# nums1end = nums1[m-1]\n",
    "while pt2 < n:\n",
    "    print('pt1: ', pt1)\n",
    "    print('pt2: ', pt2)\n",
    "    print('nums1 element: ', nums1[pt1])\n",
    "    print('nums2 element: ', nums2[pt2])\n",
    "    if nums1[pt1] <= nums2[pt2]:\n",
    "        pt1 += 1\n",
    "    else:\n",
    "        nums1[pt1+1:] = nums1[pt1:-1]\n",
    "        nums1[pt1] = nums2[pt2]\n",
    "        pt1 += 1\n",
    "        pt2 += 1\n",
    "    print(nums1)\n",
    "nums1[pt1-1:] = nums2[pt2:]"
   ]
  },
  {
   "cell_type": "code",
   "execution_count": 6,
   "metadata": {},
   "outputs": [
    {
     "data": {
      "text/plain": [
       "[1, 2, 2, 3, 0, 0]"
      ]
     },
     "execution_count": 6,
     "metadata": {},
     "output_type": "execute_result"
    }
   ],
   "source": [
    "nums1"
   ]
  },
  {
   "cell_type": "code",
   "execution_count": 2,
   "metadata": {},
   "outputs": [
    {
     "name": "stdout",
     "output_type": "stream",
     "text": [
      "[-1, 0, 0, 3, 3, 3, 0, 0, 0]\n",
      "[-1, 0, 0, 3, 3, 3, 0, 0, 0]\n",
      "[-1, 0, 0, 3, 3, 3, 0, 0, 0]\n",
      "[-1, 0, 0, 1, 3, 3, 3, 0, 0]\n",
      "[-1, 0, 0, 1, 2, 3, 3, 3, 0]\n",
      "[-1, 0, 0, 1, 2, 2, 3, 3, 3]\n"
     ]
    }
   ],
   "source": [
    "nums1 = [-1,0,0,3,3,3,0,0,0]\n",
    "m = 6\n",
    "nums2 = [1,2,2]\n",
    "n = 3\n",
    "pt1 = 0\n",
    "pt2 = 0\n",
    "# nums1end = nums1[m-1]\n",
    "while pt2 < n:\n",
    "    # print('pt1: ', pt1)\n",
    "    # print('pt2: ', pt2)\n",
    "    # print('nums1 element: ', nums1[pt1])\n",
    "    # print('nums2 element: ', nums2[pt2])\n",
    "    if nums1[pt1] <= nums2[pt2]:\n",
    "        pt1 += 1\n",
    "    else:\n",
    "        nums1[pt1+1:] = nums1[pt1:-1]\n",
    "        nums1[pt1] = nums2[pt2]\n",
    "        pt1 += 1\n",
    "        pt2 += 1\n",
    "    print(nums1)\n",
    "# nums1[pt1-1:] = nums2[pt2:]"
   ]
  },
  {
   "cell_type": "code",
   "execution_count": 3,
   "metadata": {},
   "outputs": [
    {
     "data": {
      "text/plain": [
       "[-1, 0, 0, 1, 2, 2, 3, 3, 3]"
      ]
     },
     "execution_count": 3,
     "metadata": {},
     "output_type": "execute_result"
    }
   ],
   "source": [
    "nums1"
   ]
  },
  {
   "cell_type": "code",
   "execution_count": null,
   "metadata": {},
   "outputs": [],
   "source": []
  },
  {
   "cell_type": "markdown",
   "metadata": {},
   "source": [
    "### Q292 Nim Game"
   ]
  },
  {
   "cell_type": "code",
   "execution_count": null,
   "metadata": {},
   "outputs": [],
   "source": []
  }
 ],
 "metadata": {
  "kernelspec": {
   "display_name": "base",
   "language": "python",
   "name": "python3"
  },
  "language_info": {
   "codemirror_mode": {
    "name": "ipython",
    "version": 3
   },
   "file_extension": ".py",
   "mimetype": "text/x-python",
   "name": "python",
   "nbconvert_exporter": "python",
   "pygments_lexer": "ipython3",
   "version": "3.9.18"
  }
 },
 "nbformat": 4,
 "nbformat_minor": 2
}
