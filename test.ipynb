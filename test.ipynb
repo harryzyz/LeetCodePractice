{
 "cells": [
  {
   "cell_type": "code",
   "execution_count": 2,
   "metadata": {},
   "outputs": [],
   "source": [
    "import numpy as np\n",
    "import pandas as pd"
   ]
  },
  {
   "cell_type": "code",
   "execution_count": 12,
   "metadata": {},
   "outputs": [],
   "source": [
    "nums = [3,2,4]\n",
    "target = 6"
   ]
  },
  {
   "cell_type": "code",
   "execution_count": 14,
   "metadata": {},
   "outputs": [
    {
     "name": "stdout",
     "output_type": "stream",
     "text": [
      "0 3\n",
      "1 2\n",
      "1 1\n",
      "2 4\n"
     ]
    }
   ],
   "source": [
    "for idx1, num1 in enumerate(nums):\n",
    "    print(idx1, num1)\n",
    "    for idx2, num2 in enumerate(nums[idx1+1:]):\n",
    "        # print(idx2, num2)\n",
    "        if num1 + num2 == target:\n",
    "            print(idx1, idx2+1)"
   ]
  },
  {
   "cell_type": "code",
   "execution_count": 11,
   "metadata": {},
   "outputs": [
    {
     "name": "stdout",
     "output_type": "stream",
     "text": [
      "0 2\n",
      "1 4\n"
     ]
    }
   ],
   "source": [
    "idx1 = 0\n",
    "nums[idx1+1:]\n",
    "for idx2, num2 in enumerate(nums[idx1+1:]):\n",
    "    print(idx2, num2)"
   ]
  }
 ],
 "metadata": {
  "kernelspec": {
   "display_name": "base",
   "language": "python",
   "name": "python3"
  },
  "language_info": {
   "codemirror_mode": {
    "name": "ipython",
    "version": 3
   },
   "file_extension": ".py",
   "mimetype": "text/x-python",
   "name": "python",
   "nbconvert_exporter": "python",
   "pygments_lexer": "ipython3",
   "version": "3.9.18"
  }
 },
 "nbformat": 4,
 "nbformat_minor": 2
}
